{
 "cells": [
  {
   "cell_type": "markdown",
   "id": "bd660fd2",
   "metadata": {},
   "source": [
    "# Imports"
   ]
  },
  {
   "cell_type": "code",
   "execution_count": 61,
   "id": "3f05029b",
   "metadata": {},
   "outputs": [],
   "source": [
    "import pandas as pd\n",
    "import numpy as np"
   ]
  },
  {
   "cell_type": "markdown",
   "id": "92499fc2",
   "metadata": {},
   "source": [
    "## Exercício 1"
   ]
  },
  {
   "cell_type": "code",
   "execution_count": 3,
   "id": "979e7b98",
   "metadata": {},
   "outputs": [
    {
     "name": "stdout",
     "output_type": "stream",
     "text": [
      "Índice CR4 é de 66.80%\n",
      "Índice CR4 é de 63.20%\n",
      "Índice CR4 é de 76.40%\n"
     ]
    }
   ],
   "source": [
    "empresas = []\n",
    "caps = [95.0,108.0,67.568,250.0,195.0,70.0,110.0,55.0,43.2]\n",
    "\n",
    "for i in range(65,74):\n",
    "    empresas.append(\"Empresa %s\"%chr(i))\n",
    "\n",
    "def get_cr4(empresas,caps):\n",
    "    df = pd.DataFrame(columns=['Empresa','Cap instalada (t/ano)'])\n",
    "    df['Empresa'] = empresas\n",
    "    df['Cap instalada (t/ano)'] = caps\n",
    "    df.set_index(\"Empresa\",inplace=True)\n",
    "    df.iloc[:,0] = df.iloc[:,0]/df.iloc[:,0].sum()\n",
    "    df = df.round(3)\n",
    "    df.sort_values(by='Cap instalada (t/ano)', inplace=True, ascending=False)\n",
    "    top4 = df.iloc[:4,0]\n",
    "    cr4 = top4.sum()\n",
    "    return cr4\n",
    "\n",
    "cr4 = get_cr4(empresas, caps)\n",
    "print('Índice CR4 é de %.2f'%(100*cr4)+'%')\n",
    "#################################################\n",
    "\n",
    "for i in range(75,77):\n",
    "    empresas.append(\"Empresa %s\"%chr(i))\n",
    "\n",
    "caps.append(250.0)\n",
    "caps.append(250.0)\n",
    "\n",
    "cr4 = get_cr4(empresas,caps)\n",
    "print('Índice CR4 é de %.2f'%(100*cr4)+'%')\n",
    "#################################################\n",
    "empresas = []\n",
    "\n",
    "for i in range(65,73):\n",
    "    empresas.append(\"Empresa %s\"%chr(i))\n",
    "\n",
    "caps = [95.0,108.0,67.568,250.0+195.0,70.0,110.0,55.0,43.2]\n",
    "cr4 = get_cr4(empresas,caps)\n",
    "print('Índice CR4 é de %.2f'%(100*cr4)+'%')"
   ]
  },
  {
   "cell_type": "markdown",
   "id": "d6820a08",
   "metadata": {},
   "source": [
    "## Exercício 2"
   ]
  },
  {
   "cell_type": "code",
   "execution_count": 62,
   "id": "dd1bc502",
   "metadata": {},
   "outputs": [
    {
     "name": "stdout",
     "output_type": "stream",
     "text": [
      "Para os dados de 'Produção (t/ano)', o valor estimado para 2016 segundo a taxa arimética é 14273.82\n",
      "Para os dados de 'Produção (t/ano)', o valor estimado para 2016 segundo a taxa geométrica é 14020.47\n",
      "Para os dados de 'Importação (t/ano)', o valor estimado para 2016 segundo a taxa arimética é 67349.88\n",
      "Para os dados de 'Importação (t/ano)', o valor estimado para 2016 segundo a taxa geométrica é 53736.64\n",
      "Para os dados de 'Exportação (t/ano)', o valor estimado para 2016 segundo a taxa arimética é 3635.00\n",
      "Para os dados de 'Exportação (t/ano)', o valor estimado para 2016 segundo a taxa geométrica é 3635.00\n"
     ]
    }
   ],
   "source": [
    "df = pd.DataFrame(columns=['Ano','Produção (t/ano)','Importação (t/ano)','Exportação (t/ano)'])\n",
    "anos = range(2000,2012)\n",
    "prods = [7978,7603,11211,10857,12942,9699,10298,11914,12557,11446,11619,11748]\n",
    "imps = [7297,7200,10457,9025,13581,17300,12913,13761,15937,19846,21104,28782]\n",
    "exps = [3641,5126,7695,6624,7245,4452,5606,7848,6699,5757,4486,3635]\n",
    "\n",
    "\n",
    "df['Ano'] = anos\n",
    "df['Produção (t/ano)'] = prods\n",
    "df['Importação (t/ano)'] = imps\n",
    "df['Exportação (t/ano)'] = exps\n",
    "\n",
    "n = np.arange(12)\n",
    "cols = df.columns\n",
    "\n",
    "def get_tas(n,y):\n",
    "    tas = []\n",
    "    for i in range(1,len(y)):\n",
    "        tas.append(float((float(y[i]/y[0])-1.0)/i))\n",
    "    \n",
    "    return np.array(tas).round(3)\n",
    "\n",
    "\n",
    "def get_tgs(n,y):\n",
    "    tgs = []\n",
    "    for i in range(1,len(y)):\n",
    "        tgs.append(float(y[i]/y[0])**(1/i)-1.0)\n",
    "    \n",
    "    return np.array(tgs).round(3)\n",
    "\n",
    "taxas = ['aritmética','geométrica']\n",
    "\n",
    "for i in range(1,4):\n",
    "    y = df.iloc[:,i].values\n",
    "    tas = get_tas(n,y)\n",
    "    p_2016 = y[-1]*(1.0+5*tas[-1])\n",
    "    print(\"Para os dados de '%s', o valor estimado para 2016 segundo a taxa arimética é %.2f\"%(cols[i],p_2016))    \n",
    "    tgs = get_tgs(n,y)\n",
    "    p_2016 = y[-1]*(1.0+tgs[-1])**5\n",
    "    print(\"Para os dados de '%s', o valor estimado para 2016 segundo a taxa geométrica é %.2f\"%(cols[i],p_2016))"
   ]
  },
  {
   "cell_type": "markdown",
   "id": "ddcb92d4",
   "metadata": {},
   "source": [
    "## Exercício 3"
   ]
  },
  {
   "cell_type": "code",
   "execution_count": 86,
   "id": "817505f2",
   "metadata": {},
   "outputs": [
    {
     "name": "stdout",
     "output_type": "stream",
     "text": [
      "a) O consumo aparente é:  [12000.0, 9000.000000000007, -8000.0, 5000.0, -27000.0, 42000.0, 60000.0, 54000.000000000015, 37500.0, 37500.0, 66000.0]\n",
      "b) Sim, cresceu.\n",
      "c) Como a soma da produção/exportação durante o período é maior que as importações, podemos dizer que o mercado interno não é dependente das importações.\n"
     ]
    }
   ],
   "source": [
    "anos = np.arange(2000,2011)\n",
    "caps = np.array([200,200,200,200,200,200,300,300,300,300,300])*1e3\n",
    "ocups = np.array([70,70,65,75,80,60,60,70,75,75,80])*1e-2\n",
    "imps = np.array([30,40,60,70,75,30,30,30,30,30,30])*1e3\n",
    "exps = np.array([30,35,40,50,30,60,50,40,30,30,40])*1e-2\n",
    "consumos_aparentes = []\n",
    "\n",
    "for i in range(len(anos)):\n",
    "    consumo_aparente = caps[i]*ocups[i]*exps[i]-imps[i]\n",
    "    consumos_aparentes.append(consumo_aparente)\n",
    "\n",
    "print(\"a) O consumo aparente é: \",consumos_aparentes)\n",
    "##########################################\n",
    "print(\"b) Sim, cresceu.\")\n",
    "##########################################\n",
    "prods = caps*ocups*exps\n",
    "print(\"c) Como a soma da produção/exportação durante o período é maior que as importações, podemos dizer que o mercado interno não é dependente das importações.\")"
   ]
  },
  {
   "cell_type": "markdown",
   "id": "0190f7a4",
   "metadata": {},
   "source": [
    "## Exercício 4"
   ]
  },
  {
   "cell_type": "code",
   "execution_count": 96,
   "id": "a86e2567",
   "metadata": {},
   "outputs": [
    {
     "name": "stdout",
     "output_type": "stream",
     "text": [
      "a) O preço FOB (Free on Board) representa o valor do bem no porto de origem, já o preço CIF, no porto de chegada.\n",
      "b) Importar\n"
     ]
    }
   ],
   "source": [
    "print('a) O preço FOB (Free on Board) representa o valor do bem no porto de origem, já o preço CIF, no porto de chegada.')\n",
    "###############################################\n",
    "fob = 500\n",
    "frete_seg = 50\n",
    "imposto = 0.14\n",
    "afrmm = 0.25\n",
    "frete_2 = 50\n",
    "preco_A = np.round((fob+frete_seg)*(1.0+imposto),1)+afrmm*frete_seg+frete_2\n",
    "\n",
    "preco_B = 800\n",
    "\n",
    "if preco_A < preco_B:\n",
    "    print(\"b) Importar\")\n",
    "elif preco_A > preco_B:\n",
    "    print(\"b) Comprar do produtor nacional\")\n",
    "else:\n",
    "    print(\"b) Tanto faz\")"
   ]
  },
  {
   "cell_type": "code",
   "execution_count": null,
   "id": "36fb0c8f",
   "metadata": {},
   "outputs": [],
   "source": []
  },
  {
   "cell_type": "code",
   "execution_count": null,
   "id": "0079962c",
   "metadata": {},
   "outputs": [],
   "source": []
  },
  {
   "cell_type": "code",
   "execution_count": null,
   "id": "ec160a3b",
   "metadata": {},
   "outputs": [],
   "source": []
  },
  {
   "cell_type": "code",
   "execution_count": null,
   "id": "1ed135ff",
   "metadata": {},
   "outputs": [],
   "source": [
    " "
   ]
  }
 ],
 "metadata": {
  "kernelspec": {
   "display_name": "Python 3",
   "language": "python",
   "name": "python3"
  },
  "language_info": {
   "codemirror_mode": {
    "name": "ipython",
    "version": 3
   },
   "file_extension": ".py",
   "mimetype": "text/x-python",
   "name": "python",
   "nbconvert_exporter": "python",
   "pygments_lexer": "ipython3",
   "version": "3.8.8"
  }
 },
 "nbformat": 4,
 "nbformat_minor": 5
}
