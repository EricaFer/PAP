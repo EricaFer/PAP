{
 "cells": [
  {
   "cell_type": "markdown",
   "metadata": {},
   "source": [
    "# Imports"
   ]
  },
  {
   "cell_type": "code",
   "execution_count": 104,
   "metadata": {},
   "outputs": [],
   "source": [
    "import pandas as pd\n",
    "import numpy as np\n",
    "from sklearn.linear_model import LinearRegression\n",
    "from sklearn.metrics import r2_score\n",
    "\n",
    "import matplotlib.pyplot as plt\n",
    "import seaborn as sns"
   ]
  },
  {
   "cell_type": "markdown",
   "metadata": {},
   "source": [
    "## Importar dados"
   ]
  },
  {
   "cell_type": "code",
   "execution_count": 58,
   "metadata": {},
   "outputs": [
    {
     "data": {
      "text/html": [
       "<div>\n",
       "<style scoped>\n",
       "    .dataframe tbody tr th:only-of-type {\n",
       "        vertical-align: middle;\n",
       "    }\n",
       "\n",
       "    .dataframe tbody tr th {\n",
       "        vertical-align: top;\n",
       "    }\n",
       "\n",
       "    .dataframe thead th {\n",
       "        text-align: right;\n",
       "    }\n",
       "</style>\n",
       "<table border=\"1\" class=\"dataframe\">\n",
       "  <thead>\n",
       "    <tr style=\"text-align: right;\">\n",
       "      <th></th>\n",
       "      <th>PIB (a valores constantes, R$)</th>\n",
       "      <th>Produção (t)</th>\n",
       "      <th>Exportação (t)</th>\n",
       "      <th>Importação (t)</th>\n",
       "    </tr>\n",
       "    <tr>\n",
       "      <th>Ano</th>\n",
       "      <th></th>\n",
       "      <th></th>\n",
       "      <th></th>\n",
       "      <th></th>\n",
       "    </tr>\n",
       "  </thead>\n",
       "  <tbody>\n",
       "    <tr>\n",
       "      <th>2007</th>\n",
       "      <td>686463</td>\n",
       "      <td>5634282</td>\n",
       "      <td>59786740</td>\n",
       "      <td>59786740</td>\n",
       "    </tr>\n",
       "    <tr>\n",
       "      <th>2008</th>\n",
       "      <td>698661</td>\n",
       "      <td>5921303</td>\n",
       "      <td>37976744</td>\n",
       "      <td>37976744</td>\n",
       "    </tr>\n",
       "    <tr>\n",
       "      <th>2009</th>\n",
       "      <td>689488</td>\n",
       "      <td>5913854</td>\n",
       "      <td>52999034</td>\n",
       "      <td>52999034</td>\n",
       "    </tr>\n",
       "    <tr>\n",
       "      <th>2010</th>\n",
       "      <td>724926</td>\n",
       "      <td>6359062</td>\n",
       "      <td>13487247</td>\n",
       "      <td>13487247</td>\n",
       "    </tr>\n",
       "    <tr>\n",
       "      <th>2011</th>\n",
       "      <td>686491</td>\n",
       "      <td>6611798</td>\n",
       "      <td>13088103</td>\n",
       "      <td>13088103</td>\n",
       "    </tr>\n",
       "    <tr>\n",
       "      <th>2012</th>\n",
       "      <td>758588</td>\n",
       "      <td>6738822</td>\n",
       "      <td>13605390</td>\n",
       "      <td>13605390</td>\n",
       "    </tr>\n",
       "    <tr>\n",
       "      <th>2013</th>\n",
       "      <td>865671</td>\n",
       "      <td>6941312</td>\n",
       "      <td>13862003</td>\n",
       "      <td>13862003</td>\n",
       "    </tr>\n",
       "    <tr>\n",
       "      <th>2014</th>\n",
       "      <td>874308</td>\n",
       "      <td>6976293</td>\n",
       "      <td>14118023</td>\n",
       "      <td>14118023</td>\n",
       "    </tr>\n",
       "    <tr>\n",
       "      <th>2015</th>\n",
       "      <td>783455</td>\n",
       "      <td>6728930</td>\n",
       "      <td>82843683</td>\n",
       "      <td>82843683</td>\n",
       "    </tr>\n",
       "    <tr>\n",
       "      <th>2016</th>\n",
       "      <td>854017</td>\n",
       "      <td>6495927</td>\n",
       "      <td>146395224</td>\n",
       "      <td>146395224</td>\n",
       "    </tr>\n",
       "  </tbody>\n",
       "</table>\n",
       "</div>"
      ],
      "text/plain": [
       "      PIB (a valores constantes, R$)  Produção (t)  Exportação (t)  \\\n",
       "Ano                                                                  \n",
       "2007                          686463       5634282        59786740   \n",
       "2008                          698661       5921303        37976744   \n",
       "2009                          689488       5913854        52999034   \n",
       "2010                          724926       6359062        13487247   \n",
       "2011                          686491       6611798        13088103   \n",
       "2012                          758588       6738822        13605390   \n",
       "2013                          865671       6941312        13862003   \n",
       "2014                          874308       6976293        14118023   \n",
       "2015                          783455       6728930        82843683   \n",
       "2016                          854017       6495927       146395224   \n",
       "\n",
       "      Importação (t)  \n",
       "Ano                   \n",
       "2007        59786740  \n",
       "2008        37976744  \n",
       "2009        52999034  \n",
       "2010        13487247  \n",
       "2011        13088103  \n",
       "2012        13605390  \n",
       "2013        13862003  \n",
       "2014        14118023  \n",
       "2015        82843683  \n",
       "2016       146395224  "
      ]
     },
     "execution_count": 58,
     "metadata": {},
     "output_type": "execute_result"
    }
   ],
   "source": [
    "prod = pd.read_excel('dados/produção_pvc.xlsx')\n",
    "prod.set_index(\"Ano\",inplace=True)\n",
    "prod = prod.iloc[:10,:]\n",
    "\n",
    "exp = pd.read_csv('dados/exportação_pvc.csv',sep=';')\n",
    "exp.columns = ['Ano','SH4','SH4 Description','Exportação (t)']\n",
    "exp.drop(exp.columns[1:3],inplace=True,axis=1)\n",
    "exp.set_index('Ano',inplace=True)\n",
    "exp.sort_values(by='Ano',inplace=True)\n",
    "\n",
    "imp = pd.read_csv('dados/importação_pvc.csv',sep=';')\n",
    "imp.columns = ['Ano','SH4','SH4 Description','Importação (t)']\n",
    "imp.drop(imp.columns[1:3],inplace=True,axis=1)\n",
    "imp.set_index('Ano',inplace=True)\n",
    "imp.sort_values(by='Ano',inplace=True)\n",
    "\n",
    "dados = pd.concat([prod,exp,imp],axis=1)\n",
    "dados.columns=['PIB (a valores constantes, R$)','Produção (t)','Exportação (t)','Importação (t)']\n",
    "dados = dados.astype(int)\n",
    "dados"
   ]
  },
  {
   "cell_type": "markdown",
   "metadata": {},
   "source": [
    "## Consumo aparente"
   ]
  },
  {
   "cell_type": "code",
   "execution_count": 62,
   "metadata": {},
   "outputs": [
    {
     "data": {
      "text/html": [
       "<div>\n",
       "<style scoped>\n",
       "    .dataframe tbody tr th:only-of-type {\n",
       "        vertical-align: middle;\n",
       "    }\n",
       "\n",
       "    .dataframe tbody tr th {\n",
       "        vertical-align: top;\n",
       "    }\n",
       "\n",
       "    .dataframe thead th {\n",
       "        text-align: right;\n",
       "    }\n",
       "</style>\n",
       "<table border=\"1\" class=\"dataframe\">\n",
       "  <thead>\n",
       "    <tr style=\"text-align: right;\">\n",
       "      <th></th>\n",
       "      <th>PIB (a valores constantes, R$)</th>\n",
       "      <th>Produção (t)</th>\n",
       "      <th>Exportação (t)</th>\n",
       "      <th>Importação (t)</th>\n",
       "      <th>Consumo Aparente (t)</th>\n",
       "    </tr>\n",
       "    <tr>\n",
       "      <th>Ano</th>\n",
       "      <th></th>\n",
       "      <th></th>\n",
       "      <th></th>\n",
       "      <th></th>\n",
       "      <th></th>\n",
       "    </tr>\n",
       "  </thead>\n",
       "  <tbody>\n",
       "    <tr>\n",
       "      <th>2007</th>\n",
       "      <td>686463</td>\n",
       "      <td>5634282</td>\n",
       "      <td>59786740</td>\n",
       "      <td>59786740</td>\n",
       "      <td>5634282</td>\n",
       "    </tr>\n",
       "    <tr>\n",
       "      <th>2008</th>\n",
       "      <td>698661</td>\n",
       "      <td>5921303</td>\n",
       "      <td>37976744</td>\n",
       "      <td>37976744</td>\n",
       "      <td>5921303</td>\n",
       "    </tr>\n",
       "    <tr>\n",
       "      <th>2009</th>\n",
       "      <td>689488</td>\n",
       "      <td>5913854</td>\n",
       "      <td>52999034</td>\n",
       "      <td>52999034</td>\n",
       "      <td>5913854</td>\n",
       "    </tr>\n",
       "    <tr>\n",
       "      <th>2010</th>\n",
       "      <td>724926</td>\n",
       "      <td>6359062</td>\n",
       "      <td>13487247</td>\n",
       "      <td>13487247</td>\n",
       "      <td>6359062</td>\n",
       "    </tr>\n",
       "    <tr>\n",
       "      <th>2011</th>\n",
       "      <td>686491</td>\n",
       "      <td>6611798</td>\n",
       "      <td>13088103</td>\n",
       "      <td>13088103</td>\n",
       "      <td>6611798</td>\n",
       "    </tr>\n",
       "  </tbody>\n",
       "</table>\n",
       "</div>"
      ],
      "text/plain": [
       "      PIB (a valores constantes, R$)  Produção (t)  Exportação (t)  \\\n",
       "Ano                                                                  \n",
       "2007                          686463       5634282        59786740   \n",
       "2008                          698661       5921303        37976744   \n",
       "2009                          689488       5913854        52999034   \n",
       "2010                          724926       6359062        13487247   \n",
       "2011                          686491       6611798        13088103   \n",
       "\n",
       "      Importação (t)  Consumo Aparente (t)  \n",
       "Ano                                         \n",
       "2007        59786740               5634282  \n",
       "2008        37976744               5921303  \n",
       "2009        52999034               5913854  \n",
       "2010        13487247               6359062  \n",
       "2011        13088103               6611798  "
      ]
     },
     "execution_count": 62,
     "metadata": {},
     "output_type": "execute_result"
    }
   ],
   "source": [
    "dados['Consumo Aparente (t)'] = dados[dados.columns[1]] + dados[dados.columns[3]] - dados[dados.columns[2]]\n",
    "dados.head()"
   ]
  },
  {
   "cell_type": "markdown",
   "metadata": {},
   "source": [
    "## Taxa aritmética e geométrica \n",
    "### Para taxa aritmética\n",
    "\\begin{align}\n",
    "Q_{n} &= Q_o(1+n i_a) \\\\\n",
    "i_a &= \\left(\\frac{Q_n}{Q_o} - 1\\right)\\frac{1}{n}\n",
    "\\end{align}\n",
    "### Para taxa geométrica\n",
    "\\begin{align}\n",
    "Q_n &= Q_o(1+i_g)^n \\\\\n",
    "i_g &= \\left(\\frac{Q_n}{Q_o}\\right)^{\\frac{1}{n}} - 1\n",
    "\\end{align}"
   ]
  },
  {
   "cell_type": "code",
   "execution_count": 73,
   "metadata": {},
   "outputs": [],
   "source": [
    "Q_o = dados.loc[2007]['Consumo Aparente (t)']\n",
    "Q_9 = dados.loc[2016]['Consumo Aparente (t)']\n",
    "n = 9\n",
    "\n",
    "i_a = ((Q_9/Q_o) - 1)/n\n",
    "\n",
    "i_g = (Q_9/Q_o)**(1/n) - 1"
   ]
  },
  {
   "cell_type": "markdown",
   "metadata": {},
   "source": [
    "## Projeção de tendência"
   ]
  },
  {
   "cell_type": "code",
   "execution_count": 271,
   "metadata": {},
   "outputs": [
    {
     "name": "stdout",
     "output_type": "stream",
     "text": [
      "Para regressão linear, temos R2 = 0.66\n"
     ]
    },
    {
     "data": {
      "image/png": "[encoded data removed]",
      "text/plain": [
       "<Figure size 432x288 with 1 Axes>"
      ]
     },
     "metadata": {
      "needs_background": "light"
     },
     "output_type": "display_data"
    },
    {
     "name": "stdout",
     "output_type": "stream",
     "text": [
      "Para regressão exponencial, temos R2 = 0.64\n"
     ]
    },
    {
     "data": {
      "image/png": "[encoded data removed]",
      "text/plain": [
       "<Figure size 432x288 with 1 Axes>"
      ]
     },
     "metadata": {
      "needs_background": "light"
     },
     "output_type": "display_data"
    }
   ],
   "source": [
    "# Regressão linear: y(t) = at+b\n",
    "\n",
    "x = np.array(dados.index).reshape(len(dados.index),1)\n",
    "y_lin = np.array(dados['Consumo Aparente (t)']).reshape(len(dados.index),1)\n",
    "lin_reg = LinearRegression().fit(x, y_lin)\n",
    "\n",
    "a_lin = lin_reg.coef_[0][0]\n",
    "b_lin = lin_reg.intercept_[0]\n",
    "\n",
    "y_pred_lin = a_lin*x+b_lin\n",
    "\n",
    "r2_lin = r2_score(y_lin,y_pred_lin)\n",
    "print(\"Para regressão linear, temos R2 = %.2f\"%r2_lin)\n",
    "plt.title('Regressão linear do Consumo aparente')\n",
    "plt.plot(dados.index,y_lin,label='Consumo aparente real');\n",
    "plt.plot(dados.index,y_pred_lin,label='Regressão');\n",
    "plt.legend()\n",
    "plt.show()\n",
    "\n",
    "# Regressão exponencial: y(t)=b*a^t = b*e^(ln(a)*t) => ln(y(t)) = ln(b) + ln(a)*t\n",
    "x = np.array(dados.index).reshape(len(dados.index),1)\n",
    "y_exp = np.array(dados['Consumo Aparente (t)']).reshape(len(dados.index),1)\n",
    "y_exp = np.log(y_exp)\n",
    "exp_reg =  LinearRegression().fit(x, y_exp)\n",
    "\n",
    "ln_a = exp_reg.coef_[0][0]\n",
    "ln_b = exp_reg.intercept_[0]\n",
    "\n",
    "# lny_pred = ln_b + ln_a*x\n",
    "# y_pred = np.exp(lny_pred.ravel().astype(float))\n",
    "\n",
    "a_exp = np.exp(ln_a)\n",
    "b_exp = np.exp(ln_b)\n",
    "\n",
    "y_pred_exp = b_exp*a_exp**x\n",
    "\n",
    "r2_exp = r2_score(np.exp(y_exp),y_pred_exp)\n",
    "print(\"Para regressão exponencial, temos R2 = %.2f\"%r2_exp)\n",
    "plt.title('Regressão exponencial do Consumo aparente')\n",
    "plt.plot(dados.index,np.exp(y_exp),label='Consumo aparente real');\n",
    "plt.plot(dados.index,y_pred_exp,label='Regressão');\n",
    "plt.legend()\n",
    "plt.show();"
   ]
  },
  {
   "cell_type": "markdown",
   "metadata": {},
   "source": [
    "## CA x PIB"
   ]
  },
  {
   "cell_type": "code",
   "execution_count": 294,
   "metadata": {},
   "outputs": [
    {
     "data": {
      "text/plain": [
       "[<matplotlib.lines.Line2D at 0x1b46f51ddc0>]"
      ]
     },
     "execution_count": 294,
     "metadata": {},
     "output_type": "execute_result"
    },
    {
     "data": {
      "image/png": "[encoded data removed]",
      "text/plain": [
       "<Figure size 432x288 with 1 Axes>"
      ]
     },
     "metadata": {
      "needs_background": "light"
     },
     "output_type": "display_data"
    }
   ],
   "source": [
    "x = np.array(dados[dados.columns[0]]).reshape(len(dados.index),1)\n",
    "y = np.array(dados[dados.columns[-1]]).reshape(len(dados.index),1)\n",
    "lin_reg = LinearRegression().fit(x, y_lin)\n",
    "α = lin_reg.coef_[0,0]\n",
    "β = lin_reg.intercept_[0]\n",
    "\n",
    "proj_realista = β + α*x\n",
    "proj_pessimista = β + α*x/2.0\n",
    "\n",
    "y_exp = np.array(dados[dados.columns[-1]]).reshape(len(dados.index),1)\n",
    "y_exp = np.log(y_exp)\n",
    "exp_reg =  LinearRegression().fit(x, y_exp)\n",
    "\n",
    "ln_α = exp_reg.coef_[0][0]\n",
    "ln_β = exp_reg.intercept_[0]\n",
    "\n",
    "α_exp = np.exp(ln_α)\n",
    "β_exp = np.exp(ln_β)\n",
    "\n",
    "proj_otimista = β_exp*α_exp**x\n",
    "\n",
    "plt.plot(x,dados[dados.columns[-1]],label='Histórico')"
   ]
  }
 ],
 "metadata": {
  "kernelspec": {
   "display_name": "Python 3",
   "language": "python",
   "name": "python3"
  },
  "language_info": {
   "codemirror_mode": {
    "name": "ipython",
    "version": 3
   },
   "file_extension": ".py",
   "mimetype": "text/x-python",
   "name": "python",
   "nbconvert_exporter": "python",
   "pygments_lexer": "ipython3",
   "version": "3.8.8"
  }
 },
 "nbformat": 4,
 "nbformat_minor": 2
}
